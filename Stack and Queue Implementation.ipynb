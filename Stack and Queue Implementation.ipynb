{
 "cells": [
  {
   "cell_type": "markdown",
   "id": "f82433b8",
   "metadata": {},
   "source": [
    "# Stack"
   ]
  },
  {
   "cell_type": "code",
   "execution_count": 4,
   "id": "379d4602",
   "metadata": {},
   "outputs": [
    {
     "name": "stdout",
     "output_type": "stream",
     "text": [
      "Enter memroy limit3\n",
      "Initial stack\n",
      "[]\n",
      "Enter element1\n",
      "Enter element4\n",
      "Stack After pushing\n",
      "\n",
      "Elements popped from stack:\n",
      "Popped element 4\n",
      "Popped element 1\n",
      "Stack-Underflow\n",
      "\n",
      "Stack after elements are popped:\n",
      "[]\n"
     ]
    }
   ],
   "source": [
    "n=int(input(\"Enter memroy limit\"))\n",
    "stack = []\n",
    "def push(a,n):\n",
    "    if(len(a)<n):\n",
    "        m=input(\"Enter element\")\n",
    "        a.append(m)\n",
    "    else:\n",
    "        print(\"Stack Overflow\")\n",
    "def pop(a):\n",
    "    if len(a)>0:\n",
    "        print(\"Popped element\",a.pop())\n",
    "    else:\n",
    "        print(\"Stack-Underflow\")\n",
    "print('Initial stack')\n",
    "print(stack)\n",
    "push(stack,n)\n",
    "push(stack,n)\n",
    "print(\"Stack After pushing\")\n",
    "print('\\nElements popped from stack:')\n",
    "pop(stack)\n",
    "pop(stack)\n",
    "pop(stack)\n",
    " \n",
    "print('\\nStack after elements are popped:')\n",
    "print(stack)"
   ]
  },
  {
   "cell_type": "markdown",
   "id": "9f256d38",
   "metadata": {},
   "source": [
    "# Queue"
   ]
  },
  {
   "cell_type": "code",
   "execution_count": 6,
   "id": "dd549325",
   "metadata": {},
   "outputs": [
    {
     "name": "stdout",
     "output_type": "stream",
     "text": [
      "Initial stack:\n",
      "deque(['a', 'b', 'c'])\n",
      "\n",
      "Elements popped from stack:\n",
      "c\n",
      "b\n",
      "\n",
      "Stack after elements are popped:\n",
      "deque(['a'])\n"
     ]
    }
   ],
   "source": [
    "from collections import deque\n",
    " \n",
    "stack = deque()\n",
    "stack.append('a')\n",
    "stack.append('b')\n",
    "stack.append('c')\n",
    " \n",
    "print('Initial stack:')\n",
    "print(stack)\n",
    "print('\\nElements popped from stack:')\n",
    "print(stack.pop())\n",
    "print(stack.pop())\n",
    "\n",
    " \n",
    "print('\\nStack after elements are popped:')\n",
    "print(stack)"
   ]
  },
  {
   "cell_type": "markdown",
   "id": "68b381dd",
   "metadata": {},
   "source": [
    "# Stack Linked List"
   ]
  },
  {
   "cell_type": "code",
   "execution_count": 8,
   "id": "203837bc",
   "metadata": {},
   "outputs": [
    {
     "name": "stdout",
     "output_type": "stream",
     "text": [
      "Stack: 10->9->8->7->6->5->4->3->2->1\n",
      "Pop: 10\n",
      "Pop: 9\n",
      "Pop: 8\n",
      "Pop: 7\n",
      "Pop: 6\n",
      "Stack: 5->4->3->2->1\n"
     ]
    }
   ],
   "source": [
    "class Node:\n",
    "    def __init__(self, value):\n",
    "        self.value = value\n",
    "        self.next = None\n",
    " \n",
    " \n",
    "class Stack:\n",
    "    def __init__(self):\n",
    "        self.head = Node(\"head\")\n",
    "        self.size = 0\n",
    " \n",
    "\n",
    "    def __str__(self):\n",
    "        cur = self.head.next\n",
    "        out = \"\"\n",
    "        while cur:\n",
    "            out += str(cur.value) + \"->\"\n",
    "            cur = cur.next\n",
    "        return out[:-2]\n",
    " \n",
    "   \n",
    "    def getSize(self):\n",
    "        return self.size\n",
    " \n",
    "    \n",
    "    def isEmpty(self):\n",
    "        return self.size == 0\n",
    " \n",
    "   \n",
    "    def peek(self):\n",
    " \n",
    "        \n",
    "        if self.isEmpty():\n",
    "            raise Exception(\"Peeking from an empty stack\")\n",
    "        return self.head.next.value\n",
    " \n",
    "    \n",
    "    def push(self, value):\n",
    "        node = Node(value)\n",
    "        node.next = self.head.next\n",
    "        self.head.next = node\n",
    "        self.size += 1\n",
    " \n",
    "  \n",
    "    def pop(self):\n",
    "        if self.isEmpty():\n",
    "            raise Exception(\"Popping from an empty stack\")\n",
    "        remove = self.head.next\n",
    "        self.head.next = self.head.next.next\n",
    "        self.size -= 1\n",
    "        return remove.value\n",
    " \n",
    " \n",
    "# Stack Linked List\n",
    "if __name__ == \"__main__\":\n",
    "    stack = Stack()\n",
    "    for i in range(1, 11):\n",
    "        stack.push(i)\n",
    "    print(f\"Stack: {stack}\")\n",
    " \n",
    "    for _ in range(1, 6):\n",
    "        remove = stack.pop()\n",
    "        print(f\"Pop: {remove}\")\n",
    "    print(f\"Stack: {stack}\")"
   ]
  },
  {
   "cell_type": "markdown",
   "id": "653ad9f2",
   "metadata": {},
   "source": [
    "# Queue Linked List"
   ]
  },
  {
   "cell_type": "code",
   "execution_count": 9,
   "id": "2f2440be",
   "metadata": {},
   "outputs": [
    {
     "name": "stdout",
     "output_type": "stream",
     "text": [
      "Element at the tail: 3\n",
      "Element at the tail: 4\n",
      "Element at the tail: 5\n",
      "Element dequeued: 3\n",
      "Element dequeued: 4\n",
      "Element dequeued: 5\n"
     ]
    }
   ],
   "source": [
    "class Node:\n",
    "  def __init__(self, data = None, next = None): \n",
    "    self.data = data\n",
    "    self.next = next\n",
    "class LinkedList:\n",
    "  def __init__(self):  \n",
    "    self.head = None\n",
    "  def insert(self, data):\n",
    "    newNode = Node(data)\n",
    "    if(self.head):\n",
    "      current = self.head\n",
    "      while(current.next):\n",
    "        current = current.next\n",
    "      current.next = newNode\n",
    "    else:\n",
    "      self.head = newNode\n",
    "  def remove(self):\n",
    "    temp = self.head \n",
    "    if (temp is not None):\n",
    "      element = temp.data\n",
    "      self.head = temp.next\n",
    "      temp = None\n",
    "      return element\n",
    "  \n",
    "  def peek(self):\n",
    "    if(self.head):\n",
    "      current = self.head\n",
    "      while(current.next):\n",
    "        current = current.next\n",
    "      return current.data\n",
    "  def printLL(self):\n",
    "    current = self.head\n",
    "    while(current):\n",
    "      print(current.data)\n",
    "      current = current.next\n",
    "\n",
    "Queue = LinkedList()\n",
    "Queue.insert(3)\n",
    "print(\"Element at the tail:\", Queue.peek())\n",
    "Queue.insert(4)\n",
    "print(\"Element at the tail:\", Queue.peek())\n",
    "Queue.insert(5)\n",
    "print(\"Element at the tail:\", Queue.peek())\n",
    "print(\"Element dequeued:\", Queue.remove())\n",
    "print(\"Element dequeued:\", Queue.remove())\n",
    "print(\"Element dequeued:\", Queue.remove())"
   ]
  },
  {
   "cell_type": "markdown",
   "id": "dd92e6c4",
   "metadata": {},
   "source": [
    "# Priority Queue"
   ]
  },
  {
   "cell_type": "code",
   "execution_count": 12,
   "id": "1a677656",
   "metadata": {},
   "outputs": [
    {
     "name": "stdout",
     "output_type": "stream",
     "text": [
      "12 1 14 7\n",
      "14\n",
      "12\n",
      "7\n",
      "1\n"
     ]
    }
   ],
   "source": [
    "\n",
    "class PriorityQueue(object):\n",
    "    def __init__(self):\n",
    "        self.queue = []\n",
    "\n",
    "    def __str__(self):\n",
    "        return ' '.join([str(i) for i in self.queue])\n",
    "    def isEmpty(self):\n",
    "        return len(self.queue) == 0\n",
    "\n",
    "    def insert(self, data):\n",
    "        self.queue.append(data)\n",
    "\n",
    "    def delete(self):\n",
    "        try:\n",
    "            max_val = 0\n",
    "            for i in range(len(self.queue)):\n",
    "                if self.queue[i] > self.queue[max_val]:\n",
    "                    max_val = i\n",
    "            item = self.queue[max_val]\n",
    "            del self.queue[max_val]\n",
    "            return item\n",
    "        except IndexError:\n",
    "            print()\n",
    "            exit()\n",
    "\n",
    "if __name__ == '__main__':\n",
    "    myQueue = PriorityQueue()\n",
    "    myQueue.insert(12)\n",
    "    myQueue.insert(1)\n",
    "    myQueue.insert(14)\n",
    "    myQueue.insert(7)\n",
    "    print(myQueue)\n",
    "    while not myQueue.isEmpty():\n",
    "        print(myQueue.delete()) \n"
   ]
  },
  {
   "cell_type": "markdown",
   "id": "a70c275f",
   "metadata": {},
   "source": [
    "# Circular Queue"
   ]
  },
  {
   "cell_type": "code",
   "execution_count": 13,
   "id": "cdca6bb6",
   "metadata": {},
   "outputs": [
    {
     "name": "stdout",
     "output_type": "stream",
     "text": [
      "Initial queue\n",
      "1 2 3 4 5 \n",
      "After removing an element from the queue\n",
      "2 3 4 5 \n"
     ]
    }
   ],
   "source": [
    "class MyCircularQueue():\n",
    "\n",
    "    def __init__(self, k):\n",
    "        self.k = k\n",
    "        self.queue = [None] * k\n",
    "        self.head = self.tail = -1\n",
    "\n",
    "    \n",
    "    def enqueue(self, data):\n",
    "\n",
    "        if ((self.tail + 1) % self.k == self.head):\n",
    "            print(\"The circular queue is full\\n\")\n",
    "\n",
    "        elif (self.head == -1):\n",
    "            self.head = 0\n",
    "            self.tail = 0\n",
    "            self.queue[self.tail] = data\n",
    "        else:\n",
    "            self.tail = (self.tail + 1) % self.k\n",
    "            self.queue[self.tail] = data\n",
    "\n",
    "    \n",
    "    def dequeue(self):\n",
    "        if (self.head == -1):\n",
    "            print(\"The circular queue is empty\\n\")\n",
    "\n",
    "        elif (self.head == self.tail):\n",
    "            temp = self.queue[self.head]\n",
    "            self.head = -1\n",
    "            self.tail = -1\n",
    "            return temp\n",
    "        else:\n",
    "            temp = self.queue[self.head]\n",
    "            self.head = (self.head + 1) % self.k\n",
    "            return temp\n",
    "\n",
    "    def printCQueue(self):\n",
    "        if(self.head == -1):\n",
    "            print(\"No element in the circular queue\")\n",
    "\n",
    "        elif (self.tail >= self.head):\n",
    "            for i in range(self.head, self.tail + 1):\n",
    "                print(self.queue[i], end=\" \")\n",
    "            print()\n",
    "        else:\n",
    "            for i in range(self.head, self.k):\n",
    "                print(self.queue[i], end=\" \")\n",
    "            for i in range(0, self.tail + 1):\n",
    "                print(self.queue[i], end=\" \")\n",
    "            print()\n",
    "obj = MyCircularQueue(5)\n",
    "obj.enqueue(1)\n",
    "obj.enqueue(2)\n",
    "obj.enqueue(3)\n",
    "obj.enqueue(4)\n",
    "obj.enqueue(5)\n",
    "print(\"Initial queue\")\n",
    "obj.printCQueue()\n",
    "\n",
    "obj.dequeue()\n",
    "print(\"After removing an element from the queue\")\n",
    "obj.printCQueue()"
   ]
  },
  {
   "cell_type": "code",
   "execution_count": null,
   "id": "ad68817e",
   "metadata": {},
   "outputs": [],
   "source": []
  }
 ],
 "metadata": {
  "kernelspec": {
   "display_name": "Python 3",
   "language": "python",
   "name": "python3"
  },
  "language_info": {
   "codemirror_mode": {
    "name": "ipython",
    "version": 3
   },
   "file_extension": ".py",
   "mimetype": "text/x-python",
   "name": "python",
   "nbconvert_exporter": "python",
   "pygments_lexer": "ipython3",
   "version": "3.8.8"
  }
 },
 "nbformat": 4,
 "nbformat_minor": 5
}
